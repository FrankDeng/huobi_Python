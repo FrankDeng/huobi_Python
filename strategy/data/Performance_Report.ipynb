{
 "cells": [
  {
   "cell_type": "code",
   "execution_count": 106,
   "metadata": {},
   "outputs": [],
   "source": [
    "from StrategyHandler import *\n",
    "import pandas as pd\n",
    "import sqlite3\n",
    "import numpy as np\n",
    "import matplotlib.pyplot as plt\n",
    "import numpy as np\n",
    "import matplotlib.pyplot as plt\n",
    "from Production import Production\n",
    "from functools import reduce"
   ]
  },
  {
   "cell_type": "code",
   "execution_count": 107,
   "metadata": {},
   "outputs": [],
   "source": [
    "strategy=Strategy('btcusdt')\n",
    "con = sqlite3.connect('market.db', timeout=10)"
   ]
  },
  {
   "cell_type": "code",
   "execution_count": 108,
   "metadata": {},
   "outputs": [],
   "source": [
    "# p=Production()\n",
    "# p.strategy.get_data(8000, 'btcusdt_1day_candle', 'btcusdt_60min_candle', 'btcusdt_30min_candle','btcusdt_15min_candle', 'btcusdt_5min_candle', 'btcusdt_1min_candle')\n",
    "# freq=['1min','5min','15min','30min','60min','1day']\n",
    "# period=[5,10,20,30,60]\n",
    "# for x in freq:\n",
    "#     for y in period:\n",
    "#         p.boll_reverse_system(x,y)"
   ]
  },
  {
   "cell_type": "code",
   "execution_count": 109,
   "metadata": {},
   "outputs": [],
   "source": [
    "pnl_list = []\n",
    "for item in p.strategy_list:\n",
    "    pnl = p.strategy_list[item][0][['pnl']]\n",
    "    pnl.columns = [item]\n",
    "    pnl_list.append(pnl)\n",
    "    pnl = reduce(lambda x, y: pd.merge(x, y, on='id', how='outer'), pnl_list)\n",
    "    pnl = pnl.sort_index()\n",
    "    pnl = pnl.fillna(0)\n",
    "    cov = pnl.tail(24000).cumsum().cov()\n",
    "    x = 1 / (cov.sum(axis=1))\n",
    "    x = x / sum(x)"
   ]
  },
  {
   "cell_type": "code",
   "execution_count": 110,
   "metadata": {
    "scrolled": true
   },
   "outputs": [
    {
     "name": "stdout",
     "output_type": "stream",
     "text": [
      "updated strategy:ma_system_1day_1020 at23:22:58\n",
      "updated strategy:ma_system_60min_1020 at23:22:59\n",
      "updated strategy:boll_system_60min_30 at23:23:01\n",
      "updated strategy:boll_system_1day_30 at23:23:02\n",
      "updated strategy:boll_reverse_system_5min_30 at23:23:07\n",
      "updated strategy:boll_reverse_system_15min_30 at23:23:10\n"
     ]
    }
   ],
   "source": [
    "p=Production()\n",
    "p.strategy.get_data(20000, 'btcusdt_1day_candle', 'btcusdt_60min_candle', 'btcusdt_30min_candle','btcusdt_15min_candle', 'btcusdt_5min_candle', 'btcusdt_1min_candle')\n",
    "p.ma_system(\"1day\", 10, 20)\n",
    "p.ma_system(\"60min\", 10, 20)\n",
    "p.boll_system(\"60min\",30)\n",
    "p.boll_system(\"1day\",30)\n",
    "p.boll_reverse_system(\"5min\",30)\n",
    "p.boll_reverse_system(\"15min\",30)\n",
    "portfolio=p.get_portfolio()"
   ]
  },
  {
   "cell_type": "code",
   "execution_count": 111,
   "metadata": {},
   "outputs": [],
   "source": [
    "# p.strategy_list['ma_system_1day_1020'][0]['pnl'].cumsum().plot()"
   ]
  },
  {
   "cell_type": "code",
   "execution_count": 112,
   "metadata": {
    "scrolled": false
   },
   "outputs": [
    {
     "name": "stdout",
     "output_type": "stream",
     "text": [
      "ma_system_1day_1020 Est Fee:0.138\n",
      "ma_system_1day_1020 Total Return:3.34\n",
      "ma_system_1day_1020 Sharp Ratio:4.46\n",
      "ma_system_60min_1020 Est Fee:0.298\n",
      "ma_system_60min_1020 Total Return:0.44\n",
      "ma_system_60min_1020 Sharp Ratio:1.71\n",
      "boll_system_60min_30 Est Fee:0.14\n",
      "boll_system_60min_30 Total Return:1.41\n",
      "boll_system_60min_30 Sharp Ratio:3.54\n",
      "boll_system_1day_30 Est Fee:0.09\n",
      "boll_system_1day_30 Total Return:4.33\n",
      "boll_system_1day_30 Sharp Ratio:4.51\n",
      "boll_reverse_system_5min_30 Est Fee:0.316\n",
      "boll_reverse_system_5min_30 Total Return:0.55\n",
      "boll_reverse_system_5min_30 Sharp Ratio:3.22\n",
      "boll_reverse_system_15min_30 Est Fee:0.164\n",
      "boll_reverse_system_15min_30 Total Return:0.52\n",
      "boll_reverse_system_15min_30 Sharp Ratio:1.8\n"
     ]
    }
   ],
   "source": [
    "p.evaluate_strategy()"
   ]
  },
  {
   "cell_type": "code",
   "execution_count": 113,
   "metadata": {
    "scrolled": false
   },
   "outputs": [],
   "source": [
    "def get_performance(portfolio):\n",
    "    trade=pd.read_sql('select * from btcusdt_trade_log', con)\n",
    "    trade['direction']=((trade['OrderType'].str[0]=='b')*2-1)\n",
    "    trade['position']=(trade['direction']*trade['Amount'].astype(float)).cumsum()\n",
    "    trade['liability']=-(trade['Amount'].astype(float)*trade['Price'].astype(float)*trade['direction']).cumsum()\n",
    "    portfolio=portfolio.reset_index()\n",
    "    portfolio['id']*=1000\n",
    "    portfolio.rename(columns={ portfolio.columns[0]: \"Time\" }, inplace = True)\n",
    "    result=portfolio.merge(trade[['Time','position','Fee','liability']], how='outer', on='Time')\n",
    "    performance=result.sort_values('Time')\n",
    "    performance[['price','position_x','position_y','liability']]=performance[['price','position_x','position_y','liability']].fillna(method='ffill')\n",
    "    performance=performance.fillna(0)\n",
    "    performance['asset']=performance['position_y']*performance['price']\n",
    "    performance['equity']=performance['asset']+performance['liability']\n",
    "    performance['Fee']=performance['Fee'].astype(float).cumsum()*2\n",
    "    performance['Time']=pd.to_datetime(performance['Time']/1000,unit='s')+pd.Timedelta('08:00:00')\n",
    "    return performance"
   ]
  },
  {
   "cell_type": "code",
   "execution_count": null,
   "metadata": {
    "scrolled": false
   },
   "outputs": [],
   "source": [
    "def plot_result(data):\n",
    "    fig, ax1 = plt.subplots()\n",
    "    fig.set_size_inches(18.5, 10.5, forward=True)\n",
    "\n",
    "    ax1.set_xlabel('Time')\n",
    "    ax1.set_ylabel('price')\n",
    "    ax1.plot(data['Time'], data['price'],color='peru',linewidth=0.8)\n",
    "    ax1.scatter(data['Time'],data['price'],c=data['position_x'],s=2)\n",
    "    \n",
    "    ax2 = ax1.twinx()\n",
    "    ax2.set_ylabel('position')\n",
    "    ax2.set_ylabel('pnl')\n",
    "    ax2.plot(data['Time'],data['pnl'].cumsum(),color='maroon') \n",
    "    \n",
    "    ax3= ax1.twinx()\n",
    "    ax3.spines[\"right\"].set_position((\"axes\", 1.1))\n",
    "    ax3.set_ylabel('equity')\n",
    "    ax3.plot(data['Time'],data['equity'],color='grey')\n",
    "#     ax3.plot(data['Time'],data['Fee'])\n",
    "\n",
    "    number_trades=sum(data['position_x'].diff()!=0)\n",
    "    print(\"Est Fee:\" + str(number_trades*0.002))\n",
    "    print(\"Total Return:\"+ str(round(data['pnl'].sum(),2)))\n",
    "    print(\"Sharp Ratio:\"+ str(round(data['pnl'].sum()/data['pnl'].cumsum().std(),2)))\n",
    "\n",
    "x=get_performance(portfolio)\n",
    "plot_result(x.tail(20000))"
   ]
  },
  {
   "cell_type": "code",
   "execution_count": null,
   "metadata": {
    "scrolled": false
   },
   "outputs": [],
   "source": [
    "x.tail(50)"
   ]
  }
 ],
 "metadata": {
  "kernelspec": {
   "display_name": "Python 3",
   "language": "python",
   "name": "python3"
  },
  "language_info": {
   "codemirror_mode": {
    "name": "ipython",
    "version": 3
   },
   "file_extension": ".py",
   "mimetype": "text/x-python",
   "name": "python",
   "nbconvert_exporter": "python",
   "pygments_lexer": "ipython3",
   "version": "3.8.5"
  }
 },
 "nbformat": 4,
 "nbformat_minor": 4
}
